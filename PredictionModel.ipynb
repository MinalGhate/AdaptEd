{
 "cells": [
  {
   "cell_type": "code",
   "execution_count": null,
   "id": "acda2843-bf7a-443e-b3de-507ffe6f1dc8",
   "metadata": {},
   "outputs": [
    {
     "data": {
      "text/plain": [
       "['prediction_model.pkl']"
      ]
     },
     "execution_count": 33,
     "metadata": {},
     "output_type": "execute_result"
    }
   ],
   "source": [
    "# Import necessary libraries\n",
    "import pandas as pd\n",
    "from sklearn.preprocessing import StandardScaler, OneHotEncoder\n",
    "from sklearn.compose import ColumnTransformer\n",
    "from sklearn.pipeline import Pipeline\n",
    "from sklearn.linear_model import LogisticRegression\n",
    "import joblib\n",
    "\n",
    "# Load the data\n",
    "data = pd.read_csv('Book.csv')\n",
    "\n",
    "# Define features and target\n",
    "X = data.drop('result', axis=1)\n",
    "y = data['result']\n",
    "\n",
    "# Categorical and numerical columns\n",
    "categorical_cols = X.select_dtypes(include=['object']).columns\n",
    "numerical_cols = X.select_dtypes(include=['int64', 'float64']).columns\n",
    "\n",
    "# Preprocessor\n",
    "preprocessor = ColumnTransformer(\n",
    "    transformers=[\n",
    "        ('num', StandardScaler(), numerical_cols),\n",
    "        ('cat', OneHotEncoder(), categorical_cols)\n",
    "    ])\n",
    "\n",
    "# Create a pipeline\n",
    "pipeline = Pipeline(steps=[('preprocessor', preprocessor),\n",
    "                           ('model', LogisticRegression())])\n",
    "\n",
    "# Train the model\n",
    "pipeline.fit(X, y)\n",
    "\n",
    "# Save the model\n",
    "\n"
   ]
  },
  {
   "cell_type": "code",
   "execution_count": null,
   "id": "bdb089a3-2211-41a6-8cb8-c3190018dbfa",
   "metadata": {},
   "outputs": [
    {
     "name": "stdout",
     "output_type": "stream",
     "text": [
      "Predicted outcome: [6]\n"
     ]
    }
   ],
   "source": [
    "import pandas as pd\n",
    "import joblib\n",
    "\n",
    "# Load the sample data\n",
    "sample_data = pd.DataFrame({\n",
    "    'Level': ['Beginner'],\n",
    "    'Languages': ['HTML/CSS'],\n",
    "    'ProjectInterest': ['Building websites and web applications'],\n",
    "    'Goal': ['To enhance my current skills'],\n",
    "    'AlgorithmComfort': ['Somewhat comfortable'],\n",
    "    'WebDesignComfort': ['Very comfortable'],\n",
    "    'ExcitingDevelopment': ['Creating visually appealing user interfaces'],\n",
    "    'FrontendFrameworks': ['React'],\n",
    "    'JavaFrameworks': ['None of these'],\n",
    "    'ProblemSolvingApproach': ['I prefer visualizing the problem and solution'],\n",
    "    'Age': [25]\n",
    "})\n",
    "\n",
    "# Load the model\n",
    "model = joblib.load('prediction_model.pkl')\n",
    "\n",
    "# Predict the outcome for the sample data\n",
    "sample_prediction = model.predict(sample_data)\n",
    "print(\"Predicted outcome:\", sample_prediction)\n"
   ]
  },
  {
   "cell_type": "code",
   "execution_count": null,
   "id": "70472e39-280b-4424-9bd8-e80f72da8c5a",
   "metadata": {},
   "outputs": [],
   "source": []
  }
 ],
 "metadata": {
  "kernelspec": {
   "display_name": "Python 3 (ipykernel)",
   "language": "python",
   "name": "python3"
  },
  "language_info": {
   "codemirror_mode": {
    "name": "ipython",
    "version": 3
   },
   "file_extension": ".py",
   "mimetype": "text/x-python",
   "name": "python",
   "nbconvert_exporter": "python",
   "pygments_lexer": "ipython3",
   "version": "3.11.7"
  }
 },
 "nbformat": 4,
 "nbformat_minor": 5
}
